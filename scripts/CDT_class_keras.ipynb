{
 "cells": [
  {
   "cell_type": "code",
   "execution_count": 59,
   "metadata": {},
   "outputs": [
    {
     "name": "stderr",
     "output_type": "stream",
     "text": [
      "WARNING: Logging before flag parsing goes to stderr.\n",
      "W1021 11:16:28.118636 140136970573632 deprecation.py:506] From /usr/local/lib/python3.6/dist-packages/tensorflow/python/ops/init_ops.py:1251: calling VarianceScaling.__init__ (from tensorflow.python.ops.init_ops) with dtype is deprecated and will be removed in a future version.\n",
      "Instructions for updating:\n",
      "Call initializer instance with the dtype argument instead of passing it to the constructor\n",
      "W1021 11:16:28.365833 140136970573632 deprecation.py:323] From /usr/local/lib/python3.6/dist-packages/tensorflow/python/ops/nn_impl.py:180: add_dispatch_support.<locals>.wrapper (from tensorflow.python.ops.array_ops) is deprecated and will be removed in a future version.\n",
      "Instructions for updating:\n",
      "Use tf.where in 2.0, which has the same broadcast rule as np.where\n"
     ]
    }
   ],
   "source": [
    "from pathlib import Path\n",
    "import os\n",
    "TRAIN_DIR=Path('/home/abraham/Escritorio/PAE_2/pae2019/CLOCK/CDT_images/train')\n",
    "TEST_DIR=Path('/home/abraham/Escritorio/PAE_2/pae2019/CLOCK/CDT_images/test')\n",
    "TRAIN_DIR_DEMENTIA=TRAIN_DIR / \"dementia\"\n",
    "TRAIN_DIR_HEALTH=TRAIN_DIR / \"health\"\n",
    "TEST_DIR_DEMENTIA=TRAIN_DIR / \"dementia\"\n",
    "TEST_DIR_HEALTH=TRAIN_DIR / \"health\"\n",
    "train_health_images=[(TRAIN_DIR_HEALTH / i).as_posix() for i in os.listdir(TRAIN_DIR_HEALTH)]\n",
    "train_dementia_images=[(TRAIN_DIR_DEMENTIA /i).as_posix() for i in os.listdir(TRAIN_DIR_DEMENTIA)]\n",
    "test_health_images=[(TEST_DIR_HEALTH  /i).as_posix() for i in os.listdir(TEST_DIR_HEALTH)]\n",
    "test_dementia_images=[(TEST_DIR_DEMENTIA /i).as_posix() for i in os.listdir(TEST_DIR_DEMENTIA)]\n",
    "from tensorflow.keras.models import Sequential\n",
    "from tensorflow.keras.layers import Flatten\n",
    "from tensorflow.keras.layers import Dense\n",
    "from tensorflow.keras.layers import Conv2D\n",
    "from tensorflow.keras.layers import MaxPooling2D\n",
    "from tensorflow.keras.callbacks import TensorBoard\n",
    "classifier = Sequential()\n",
    "classifier.add(Conv2D(32,(3,3),input_shape=(64,64,3),activation = 'relu'))\n",
    "classifier.add(MaxPooling2D(pool_size=(2,2),strides=2)) #if stride not given it equal to pool filter size\n",
    "classifier.add(Conv2D(32,(3,3),activation = 'relu'))\n",
    "classifier.add(MaxPooling2D(pool_size=(2,2),strides=2))\n",
    "classifier.add(Flatten())\n",
    "classifier.add(Dense(units=128,activation='relu'))\n",
    "classifier.add(Dense(units=1,activation='sigmoid'))\n",
    "adam = tensorflow.keras.optimizers.Adam(lr=0.001, beta_1=0.9, beta_2=0.999, epsilon=None, decay=0.0, amsgrad=False)\n",
    "classifier.compile(optimizer=adam,loss='binary_crossentropy',metrics=['accuracy'])\n",
    "#tensorboard = TensorBoard(log_dir=\"logs/{}\".format(time()))\n",
    "\n",
    "\n"
   ]
  },
  {
   "cell_type": "code",
   "execution_count": 38,
   "metadata": {},
   "outputs": [],
   "source": [
    "def label_image(img_name):\n",
    "    if img_name.split(\"/\")[-2]=='health':\n",
    "        return [1,0]\n",
    "    elif img_name.split(\"/\")[-2]=='dementia':\n",
    "        return[0,1]\n",
    "        \n",
    "    \n",
    "    "
   ]
  },
  {
   "cell_type": "code",
   "execution_count": 41,
   "metadata": {},
   "outputs": [],
   "source": [
    "image_size=50\n",
    "train_images=train_health_images+train_dementia_images\n",
    "test_images=test_health_images+test_dementia_images\n",
    "def train_data_generation():\n",
    "    training_data=[]\n",
    "    for image in train_images:\n",
    "        img_label=label_image(image)\n",
    "        img=cv2.imread(image,cv2.IMREAD_GRAYSCALE)\n",
    "        img=cv2.resize(img,(image_size,image_size))\n",
    "        training_data.append([np.array(img),img_label])\n",
    "    shuffle(training_data)\n",
    "    return training_data\n",
    "def test_data_generator():\n",
    "    test_data=[]\n",
    "    for image in test_images:\n",
    "        img_label=label_image(image)\n",
    "        img=cv2.imread(image,cv2.IMREAD_GRAYSCALE)\n",
    "        img=cv2.resize(img,(image_size,image_size))\n",
    "        test_data.append([np.array(img),img_label])\n",
    "    shuffle(test_data)\n",
    "    return test_data\n",
    "    \n",
    "        \n",
    "        "
   ]
  },
  {
   "cell_type": "code",
   "execution_count": 43,
   "metadata": {},
   "outputs": [
    {
     "ename": "ModuleNotFoundError",
     "evalue": "No module named 'tensorflow.layers.conv'",
     "output_type": "error",
     "traceback": [
      "\u001b[0;31m---------------------------------------------------------------------------\u001b[0m",
      "\u001b[0;31mModuleNotFoundError\u001b[0m                       Traceback (most recent call last)",
      "\u001b[0;32m<ipython-input-43-a7d1eec67848>\u001b[0m in \u001b[0;36m<module>\u001b[0;34m\u001b[0m\n\u001b[1;32m      1\u001b[0m \u001b[0;32mimport\u001b[0m \u001b[0mtensorflow\u001b[0m\u001b[0;34m\u001b[0m\u001b[0;34m\u001b[0m\u001b[0m\n\u001b[0;32m----> 2\u001b[0;31m \u001b[0;32mfrom\u001b[0m \u001b[0mtensorflow\u001b[0m\u001b[0;34m.\u001b[0m\u001b[0mlayers\u001b[0m\u001b[0;34m.\u001b[0m\u001b[0mconv\u001b[0m \u001b[0;32mimport\u001b[0m \u001b[0mconv_2d\u001b[0m\u001b[0;34m,\u001b[0m\u001b[0mmax_pool_2d\u001b[0m\u001b[0;34m\u001b[0m\u001b[0;34m\u001b[0m\u001b[0m\n\u001b[0m\u001b[1;32m      3\u001b[0m \u001b[0;32mfrom\u001b[0m \u001b[0mtensorflow\u001b[0m\u001b[0;34m.\u001b[0m\u001b[0mlayers\u001b[0m\u001b[0;34m.\u001b[0m\u001b[0mcore\u001b[0m \u001b[0;32mimport\u001b[0m \u001b[0minput_data\u001b[0m\u001b[0;34m,\u001b[0m\u001b[0mdropout\u001b[0m\u001b[0;34m,\u001b[0m\u001b[0mfully_connected\u001b[0m\u001b[0;34m\u001b[0m\u001b[0;34m\u001b[0m\u001b[0m\n\u001b[1;32m      4\u001b[0m \u001b[0;32mfrom\u001b[0m \u001b[0mtensorflow\u001b[0m\u001b[0;34m.\u001b[0m\u001b[0mlayers\u001b[0m\u001b[0;34m.\u001b[0m\u001b[0mestimator\u001b[0m \u001b[0;32mimport\u001b[0m \u001b[0mregression\u001b[0m\u001b[0;34m\u001b[0m\u001b[0;34m\u001b[0m\u001b[0m\n",
      "\u001b[0;31mModuleNotFoundError\u001b[0m: No module named 'tensorflow.layers.conv'"
     ]
    }
   ],
   "source": [
    "import tensorflow\n",
    "from tensorflow.layers.conv import conv_2d,max_pool_2d\n",
    "from tensorflow.layers.core import input_data,dropout,fully_connected\n",
    "from tensorflow.layers.estimator import regression"
   ]
  },
  {
   "cell_type": "code",
   "execution_count": 63,
   "metadata": {},
   "outputs": [
    {
     "name": "stdout",
     "output_type": "stream",
     "text": [
      "Found 102 images belonging to 2 classes.\n",
      "Found 47 images belonging to 2 classes.\n"
     ]
    }
   ],
   "source": [
    "train_set = train_datagen.flow_from_directory(TRAIN_DIR,\n",
    "                                             target_size=(64,64),\n",
    "                                             batch_size=32,\n",
    "                                             class_mode='binary')\n",
    "test_set = test_datagen.flow_from_directory(TEST_DIR,\n",
    "                                           target_size=(64,64),\n",
    "                                           batch_size = 32,\n",
    "                                           class_mode='binary',\n",
    "                                           shuffle=False)"
   ]
  },
  {
   "cell_type": "code",
   "execution_count": 105,
   "metadata": {},
   "outputs": [
    {
     "name": "stdout",
     "output_type": "stream",
     "text": [
      "Epoch 1/10\n",
      "20/20 [==============================] - 5s 239ms/step - loss: 0.2657 - acc: 0.8902\n",
      "Epoch 2/10\n",
      "20/20 [==============================] - 5s 227ms/step - loss: 0.0725 - acc: 0.9627\n",
      "Epoch 3/10\n",
      "20/20 [==============================] - 5s 238ms/step - loss: 0.0921 - acc: 0.9706\n",
      "Epoch 4/10\n",
      "20/20 [==============================] - 5s 244ms/step - loss: 0.0542 - acc: 0.9863\n",
      "Epoch 5/10\n",
      "20/20 [==============================] - 5s 228ms/step - loss: 0.0357 - acc: 0.9902\n",
      "Epoch 6/10\n",
      "20/20 [==============================] - 5s 233ms/step - loss: 0.0443 - acc: 0.9863\n",
      "Epoch 7/10\n",
      "20/20 [==============================] - 5s 239ms/step - loss: 0.0349 - acc: 0.9863\n",
      "Epoch 8/10\n",
      "20/20 [==============================] - 5s 249ms/step - loss: 0.0215 - acc: 0.9980\n",
      "Epoch 9/10\n",
      "20/20 [==============================] - 5s 241ms/step - loss: 0.0125 - acc: 1.0000\n",
      "Epoch 10/10\n",
      "20/20 [==============================] - 5s 261ms/step - loss: 0.0591 - acc: 0.9784\n"
     ]
    }
   ],
   "source": [
    "classifier.fit_generator(train_set,\n",
    "                        steps_per_epoch=20, \n",
    "                        epochs = 10\n",
    "                        #callbacks=[tensorboard]\n",
    "                        );"
   ]
  },
  {
   "cell_type": "code",
   "execution_count": 110,
   "metadata": {},
   "outputs": [],
   "source": [
    "import numpy as np\n",
    "from keras.preprocessing import image\n",
    "predictions=[]\n",
    "for images in test_images:\n",
    "    test_image=image.load_img(images,target_size=(64,64))\n",
    "    test_image=image.img_to_array(test_image)\n",
    "    test_image=np.expand_dims(test_image,axis=0)\n",
    "    result=classifier.predict(test_image)\n",
    "    predictions.append(result[0][0])"
   ]
  },
  {
   "cell_type": "code",
   "execution_count": 111,
   "metadata": {},
   "outputs": [
    {
     "data": {
      "text/plain": [
       "[1.0,\n",
       " 1.0,\n",
       " 1.0,\n",
       " 1.0,\n",
       " 1.0,\n",
       " 1.0,\n",
       " 1.0,\n",
       " 1.0,\n",
       " 1.0,\n",
       " 1.0,\n",
       " 1.0,\n",
       " 1.0,\n",
       " 1.0,\n",
       " 1.0,\n",
       " 1.0,\n",
       " 1.0,\n",
       " 1.0,\n",
       " 1.0,\n",
       " 1.0,\n",
       " 1.0,\n",
       " 1.0,\n",
       " 1.0,\n",
       " 1.0,\n",
       " 1.0,\n",
       " 1.0,\n",
       " 1.0,\n",
       " 1.0,\n",
       " 1.0,\n",
       " 1.0,\n",
       " 1.0,\n",
       " 1.0,\n",
       " 1.0,\n",
       " 1.0,\n",
       " 1.0,\n",
       " 1.0,\n",
       " 1.0,\n",
       " 1.0,\n",
       " 1.0,\n",
       " 1.0,\n",
       " 1.0,\n",
       " 1.0,\n",
       " 1.0,\n",
       " 1.0,\n",
       " 1.0,\n",
       " 1.0,\n",
       " 1.0,\n",
       " 1.0,\n",
       " 1.0,\n",
       " 1.0,\n",
       " 1.0,\n",
       " 1.0,\n",
       " 0.0,\n",
       " 0.0,\n",
       " 0.0,\n",
       " 0.0,\n",
       " 0.0,\n",
       " 0.0,\n",
       " 0.0,\n",
       " 0.0,\n",
       " 0.0,\n",
       " 0.0,\n",
       " 0.0,\n",
       " 0.0,\n",
       " 0.0,\n",
       " 0.0,\n",
       " 0.0,\n",
       " 0.0,\n",
       " 0.0,\n",
       " 0.0,\n",
       " 0.0,\n",
       " 0.0,\n",
       " 0.0,\n",
       " 0.0,\n",
       " 0.0,\n",
       " 0.0,\n",
       " 0.0,\n",
       " 0.0,\n",
       " 0.0,\n",
       " 0.0,\n",
       " 0.0,\n",
       " 0.0,\n",
       " 0.0,\n",
       " 0.0,\n",
       " 0.0,\n",
       " 0.0,\n",
       " 0.0,\n",
       " 0.0,\n",
       " 0.0,\n",
       " 0.0,\n",
       " 0.0,\n",
       " 0.0,\n",
       " 0.0,\n",
       " 0.0,\n",
       " 0.0,\n",
       " 0.0,\n",
       " 0.0,\n",
       " 0.0,\n",
       " 0.0,\n",
       " 0.0,\n",
       " 0.0,\n",
       " 0.0,\n",
       " 0.0]"
      ]
     },
     "execution_count": 111,
     "metadata": {},
     "output_type": "execute_result"
    }
   ],
   "source": [
    "predictions"
   ]
  },
  {
   "cell_type": "code",
   "execution_count": 92,
   "metadata": {},
   "outputs": [
    {
     "data": {
      "text/plain": [
       "{'dementia': 0, 'health': 1}"
      ]
     },
     "execution_count": 92,
     "metadata": {},
     "output_type": "execute_result"
    }
   ],
   "source": []
  },
  {
   "cell_type": "code",
   "execution_count": null,
   "metadata": {},
   "outputs": [],
   "source": []
  }
 ],
 "metadata": {
  "kernelspec": {
   "display_name": "Python 3",
   "language": "python",
   "name": "python3"
  },
  "language_info": {
   "codemirror_mode": {
    "name": "ipython",
    "version": 3
   },
   "file_extension": ".py",
   "mimetype": "text/x-python",
   "name": "python",
   "nbconvert_exporter": "python",
   "pygments_lexer": "ipython3",
   "version": "3.6.8"
  }
 },
 "nbformat": 4,
 "nbformat_minor": 2
}
