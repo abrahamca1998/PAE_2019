{
 "cells": [
  {
   "cell_type": "code",
   "execution_count": 1,
   "metadata": {},
   "outputs": [
    {
     "name": "stderr",
     "output_type": "stream",
     "text": [
      "/usr/local/lib/python3.6/dist-packages/tensorflow/python/framework/dtypes.py:516: FutureWarning: Passing (type, 1) or '1type' as a synonym of type is deprecated; in a future version of numpy, it will be understood as (type, (1,)) / '(1,)type'.\n",
      "  _np_qint8 = np.dtype([(\"qint8\", np.int8, 1)])\n",
      "/usr/local/lib/python3.6/dist-packages/tensorflow/python/framework/dtypes.py:517: FutureWarning: Passing (type, 1) or '1type' as a synonym of type is deprecated; in a future version of numpy, it will be understood as (type, (1,)) / '(1,)type'.\n",
      "  _np_quint8 = np.dtype([(\"quint8\", np.uint8, 1)])\n",
      "/usr/local/lib/python3.6/dist-packages/tensorflow/python/framework/dtypes.py:518: FutureWarning: Passing (type, 1) or '1type' as a synonym of type is deprecated; in a future version of numpy, it will be understood as (type, (1,)) / '(1,)type'.\n",
      "  _np_qint16 = np.dtype([(\"qint16\", np.int16, 1)])\n",
      "/usr/local/lib/python3.6/dist-packages/tensorflow/python/framework/dtypes.py:519: FutureWarning: Passing (type, 1) or '1type' as a synonym of type is deprecated; in a future version of numpy, it will be understood as (type, (1,)) / '(1,)type'.\n",
      "  _np_quint16 = np.dtype([(\"quint16\", np.uint16, 1)])\n",
      "/usr/local/lib/python3.6/dist-packages/tensorflow/python/framework/dtypes.py:520: FutureWarning: Passing (type, 1) or '1type' as a synonym of type is deprecated; in a future version of numpy, it will be understood as (type, (1,)) / '(1,)type'.\n",
      "  _np_qint32 = np.dtype([(\"qint32\", np.int32, 1)])\n",
      "/usr/local/lib/python3.6/dist-packages/tensorflow/python/framework/dtypes.py:525: FutureWarning: Passing (type, 1) or '1type' as a synonym of type is deprecated; in a future version of numpy, it will be understood as (type, (1,)) / '(1,)type'.\n",
      "  np_resource = np.dtype([(\"resource\", np.ubyte, 1)])\n"
     ]
    },
    {
     "name": "stdout",
     "output_type": "stream",
     "text": [
      "WARNING:tensorflow:From /usr/local/lib/python3.6/dist-packages/tensorflow/python/ops/init_ops.py:97: calling GlorotUniform.__init__ (from tensorflow.python.ops.init_ops) with dtype is deprecated and will be removed in a future version.\n",
      "Instructions for updating:\n",
      "Call initializer instance with the dtype argument instead of passing it to the constructor\n",
      "WARNING:tensorflow:From /usr/local/lib/python3.6/dist-packages/tensorflow/python/ops/init_ops.py:1251: calling VarianceScaling.__init__ (from tensorflow.python.ops.init_ops) with dtype is deprecated and will be removed in a future version.\n",
      "Instructions for updating:\n",
      "Call initializer instance with the dtype argument instead of passing it to the constructor\n",
      "WARNING:tensorflow:From /usr/local/lib/python3.6/dist-packages/tensorflow/python/ops/init_ops.py:97: calling Zeros.__init__ (from tensorflow.python.ops.init_ops) with dtype is deprecated and will be removed in a future version.\n",
      "Instructions for updating:\n",
      "Call initializer instance with the dtype argument instead of passing it to the constructor\n"
     ]
    },
    {
     "name": "stderr",
     "output_type": "stream",
     "text": [
      "/usr/local/lib/python3.6/dist-packages/tensorboard/compat/tensorflow_stub/dtypes.py:541: FutureWarning: Passing (type, 1) or '1type' as a synonym of type is deprecated; in a future version of numpy, it will be understood as (type, (1,)) / '(1,)type'.\n",
      "  _np_qint8 = np.dtype([(\"qint8\", np.int8, 1)])\n",
      "/usr/local/lib/python3.6/dist-packages/tensorboard/compat/tensorflow_stub/dtypes.py:542: FutureWarning: Passing (type, 1) or '1type' as a synonym of type is deprecated; in a future version of numpy, it will be understood as (type, (1,)) / '(1,)type'.\n",
      "  _np_quint8 = np.dtype([(\"quint8\", np.uint8, 1)])\n",
      "/usr/local/lib/python3.6/dist-packages/tensorboard/compat/tensorflow_stub/dtypes.py:543: FutureWarning: Passing (type, 1) or '1type' as a synonym of type is deprecated; in a future version of numpy, it will be understood as (type, (1,)) / '(1,)type'.\n",
      "  _np_qint16 = np.dtype([(\"qint16\", np.int16, 1)])\n",
      "/usr/local/lib/python3.6/dist-packages/tensorboard/compat/tensorflow_stub/dtypes.py:544: FutureWarning: Passing (type, 1) or '1type' as a synonym of type is deprecated; in a future version of numpy, it will be understood as (type, (1,)) / '(1,)type'.\n",
      "  _np_quint16 = np.dtype([(\"quint16\", np.uint16, 1)])\n",
      "/usr/local/lib/python3.6/dist-packages/tensorboard/compat/tensorflow_stub/dtypes.py:545: FutureWarning: Passing (type, 1) or '1type' as a synonym of type is deprecated; in a future version of numpy, it will be understood as (type, (1,)) / '(1,)type'.\n",
      "  _np_qint32 = np.dtype([(\"qint32\", np.int32, 1)])\n",
      "/usr/local/lib/python3.6/dist-packages/tensorboard/compat/tensorflow_stub/dtypes.py:550: FutureWarning: Passing (type, 1) or '1type' as a synonym of type is deprecated; in a future version of numpy, it will be understood as (type, (1,)) / '(1,)type'.\n",
      "  np_resource = np.dtype([(\"resource\", np.ubyte, 1)])\n"
     ]
    }
   ],
   "source": [
    "from tensorflow.keras.models import load_model\n",
    "model = load_model('model.h5')"
   ]
  },
  {
   "cell_type": "code",
   "execution_count": 2,
   "metadata": {},
   "outputs": [
    {
     "name": "stdout",
     "output_type": "stream",
     "text": [
      "Model: \"sequential\"\n",
      "_________________________________________________________________\n",
      "Layer (type)                 Output Shape              Param #   \n",
      "=================================================================\n",
      "conv2d (Conv2D)              (None, 26, 26, 32)        320       \n",
      "_________________________________________________________________\n",
      "conv2d_1 (Conv2D)            (None, 24, 24, 64)        18496     \n",
      "_________________________________________________________________\n",
      "max_pooling2d (MaxPooling2D) (None, 12, 12, 64)        0         \n",
      "_________________________________________________________________\n",
      "dropout (Dropout)            (None, 12, 12, 64)        0         \n",
      "_________________________________________________________________\n",
      "flatten (Flatten)            (None, 9216)              0         \n",
      "_________________________________________________________________\n",
      "dense (Dense)                (None, 128)               1179776   \n",
      "_________________________________________________________________\n",
      "dropout_1 (Dropout)          (None, 128)               0         \n",
      "_________________________________________________________________\n",
      "dense_1 (Dense)              (None, 10)                1290      \n",
      "=================================================================\n",
      "Total params: 1,199,882\n",
      "Trainable params: 1,199,882\n",
      "Non-trainable params: 0\n",
      "_________________________________________________________________\n"
     ]
    }
   ],
   "source": [
    "model.summary()"
   ]
  },
  {
   "cell_type": "code",
   "execution_count": 6,
   "metadata": {},
   "outputs": [],
   "source": [
    "from tensorflow import keras\n",
    "from tensorflow.keras.datasets import mnist\n",
    "(X_train,y_train),(X_test,y_test)=mnist.load_data()\n",
    "import matplotlib.pyplot as plt"
   ]
  },
  {
   "cell_type": "code",
   "execution_count": 6,
   "metadata": {},
   "outputs": [
    {
     "name": "stdout",
     "output_type": "stream",
     "text": [
      "x_train shape: (60000, 28, 28, 1)\n",
      "60000 train samples\n",
      "10000 test samples\n"
     ]
    }
   ],
   "source": [
    "from __future__ import print_function\n",
    "from tensorflow.keras.datasets import mnist\n",
    "from tensorflow.keras.models import Sequential\n",
    "from tensorflow.keras.layers import Dense, Dropout, Flatten\n",
    "from tensorflow.keras.layers import Conv2D, MaxPooling2D\n",
    "from tensorflow.keras import backend as K\n",
    "\n",
    "batch_size = 128\n",
    "num_classes = 10\n",
    "epochs = 12\n",
    "\n",
    "# input image dimensions\n",
    "img_rows, img_cols = 28, 28\n",
    "\n",
    "# the data, split between train and test sets\n",
    "(x_train, y_train), (x_test, y_test) = mnist.load_data()\n",
    "\n",
    "if K.image_data_format() == 'channels_first':\n",
    "    x_train = x_train.reshape(x_train.shape[0], 1, img_rows, img_cols)\n",
    "    x_test = x_test.reshape(x_test.shape[0], 1, img_rows, img_cols)\n",
    "    input_shape = (1, img_rows, img_cols)\n",
    "else:\n",
    "    x_train = x_train.reshape(x_train.shape[0], img_rows, img_cols, 1)\n",
    "    x_test = x_test.reshape(x_test.shape[0], img_rows, img_cols, 1)\n",
    "    input_shape = (img_rows, img_cols, 1)\n",
    "\n",
    "x_train = x_train.astype('float32')\n",
    "x_test = x_test.astype('float32')\n",
    "x_train /= 255\n",
    "x_test /= 255\n",
    "print('x_train shape:', x_train.shape)\n",
    "print(x_train.shape[0], 'train samples')\n",
    "print(x_test.shape[0], 'test samples')\n",
    "\n",
    "# convert class vectors to binary class matrices\n",
    "y_train = keras.utils.to_categorical(y_train, num_classes)\n",
    "y_test = keras.utils.to_categorical(y_test, num_classes)"
   ]
  },
  {
   "cell_type": "code",
   "execution_count": 8,
   "metadata": {},
   "outputs": [
    {
     "name": "stdout",
     "output_type": "stream",
     "text": [
      "10000/10000 [==============================] - 2s 237us/sample - loss: 0.7373 - acc: 0.8380\n"
     ]
    }
   ],
   "source": [
    "scores=model.evaluate(x_test,y_test)"
   ]
  },
  {
   "cell_type": "code",
   "execution_count": 1,
   "metadata": {},
   "outputs": [
    {
     "name": "stderr",
     "output_type": "stream",
     "text": [
      "/usr/local/lib/python3.6/dist-packages/tensorflow/python/framework/dtypes.py:516: FutureWarning: Passing (type, 1) or '1type' as a synonym of type is deprecated; in a future version of numpy, it will be understood as (type, (1,)) / '(1,)type'.\n",
      "  _np_qint8 = np.dtype([(\"qint8\", np.int8, 1)])\n",
      "/usr/local/lib/python3.6/dist-packages/tensorflow/python/framework/dtypes.py:517: FutureWarning: Passing (type, 1) or '1type' as a synonym of type is deprecated; in a future version of numpy, it will be understood as (type, (1,)) / '(1,)type'.\n",
      "  _np_quint8 = np.dtype([(\"quint8\", np.uint8, 1)])\n",
      "/usr/local/lib/python3.6/dist-packages/tensorflow/python/framework/dtypes.py:518: FutureWarning: Passing (type, 1) or '1type' as a synonym of type is deprecated; in a future version of numpy, it will be understood as (type, (1,)) / '(1,)type'.\n",
      "  _np_qint16 = np.dtype([(\"qint16\", np.int16, 1)])\n",
      "/usr/local/lib/python3.6/dist-packages/tensorflow/python/framework/dtypes.py:519: FutureWarning: Passing (type, 1) or '1type' as a synonym of type is deprecated; in a future version of numpy, it will be understood as (type, (1,)) / '(1,)type'.\n",
      "  _np_quint16 = np.dtype([(\"quint16\", np.uint16, 1)])\n",
      "/usr/local/lib/python3.6/dist-packages/tensorflow/python/framework/dtypes.py:520: FutureWarning: Passing (type, 1) or '1type' as a synonym of type is deprecated; in a future version of numpy, it will be understood as (type, (1,)) / '(1,)type'.\n",
      "  _np_qint32 = np.dtype([(\"qint32\", np.int32, 1)])\n",
      "/usr/local/lib/python3.6/dist-packages/tensorflow/python/framework/dtypes.py:525: FutureWarning: Passing (type, 1) or '1type' as a synonym of type is deprecated; in a future version of numpy, it will be understood as (type, (1,)) / '(1,)type'.\n",
      "  np_resource = np.dtype([(\"resource\", np.ubyte, 1)])\n",
      "/usr/local/lib/python3.6/dist-packages/tensorboard/compat/tensorflow_stub/dtypes.py:541: FutureWarning: Passing (type, 1) or '1type' as a synonym of type is deprecated; in a future version of numpy, it will be understood as (type, (1,)) / '(1,)type'.\n",
      "  _np_qint8 = np.dtype([(\"qint8\", np.int8, 1)])\n",
      "/usr/local/lib/python3.6/dist-packages/tensorboard/compat/tensorflow_stub/dtypes.py:542: FutureWarning: Passing (type, 1) or '1type' as a synonym of type is deprecated; in a future version of numpy, it will be understood as (type, (1,)) / '(1,)type'.\n",
      "  _np_quint8 = np.dtype([(\"quint8\", np.uint8, 1)])\n",
      "/usr/local/lib/python3.6/dist-packages/tensorboard/compat/tensorflow_stub/dtypes.py:543: FutureWarning: Passing (type, 1) or '1type' as a synonym of type is deprecated; in a future version of numpy, it will be understood as (type, (1,)) / '(1,)type'.\n",
      "  _np_qint16 = np.dtype([(\"qint16\", np.int16, 1)])\n",
      "/usr/local/lib/python3.6/dist-packages/tensorboard/compat/tensorflow_stub/dtypes.py:544: FutureWarning: Passing (type, 1) or '1type' as a synonym of type is deprecated; in a future version of numpy, it will be understood as (type, (1,)) / '(1,)type'.\n",
      "  _np_quint16 = np.dtype([(\"quint16\", np.uint16, 1)])\n",
      "/usr/local/lib/python3.6/dist-packages/tensorboard/compat/tensorflow_stub/dtypes.py:545: FutureWarning: Passing (type, 1) or '1type' as a synonym of type is deprecated; in a future version of numpy, it will be understood as (type, (1,)) / '(1,)type'.\n",
      "  _np_qint32 = np.dtype([(\"qint32\", np.int32, 1)])\n",
      "/usr/local/lib/python3.6/dist-packages/tensorboard/compat/tensorflow_stub/dtypes.py:550: FutureWarning: Passing (type, 1) or '1type' as a synonym of type is deprecated; in a future version of numpy, it will be understood as (type, (1,)) / '(1,)type'.\n",
      "  np_resource = np.dtype([(\"resource\", np.ubyte, 1)])\n"
     ]
    }
   ],
   "source": [
    "from tensorflow.keras.models import load_model\n",
    "model = load_model('number_recognition.h5')"
   ]
  },
  {
   "cell_type": "code",
   "execution_count": 3,
   "metadata": {},
   "outputs": [
    {
     "name": "stdout",
     "output_type": "stream",
     "text": [
      "Model: \"sequential_1\"\n",
      "_________________________________________________________________\n",
      "Layer (type)                 Output Shape              Param #   \n",
      "=================================================================\n",
      "conv2d_1 (Conv2D)            (None, 26, 26, 32)        320       \n",
      "_________________________________________________________________\n",
      "conv2d_2 (Conv2D)            (None, 24, 24, 64)        18496     \n",
      "_________________________________________________________________\n",
      "max_pooling2d_1 (MaxPooling2 (None, 12, 12, 64)        0         \n",
      "_________________________________________________________________\n",
      "dropout_1 (Dropout)          (None, 12, 12, 64)        0         \n",
      "_________________________________________________________________\n",
      "flatten_1 (Flatten)          (None, 9216)              0         \n",
      "_________________________________________________________________\n",
      "dense_1 (Dense)              (None, 128)               1179776   \n",
      "_________________________________________________________________\n",
      "dropout_2 (Dropout)          (None, 128)               0         \n",
      "_________________________________________________________________\n",
      "dense_2 (Dense)              (None, 10)                1290      \n",
      "=================================================================\n",
      "Total params: 1,199,882\n",
      "Trainable params: 1,199,882\n",
      "Non-trainable params: 0\n",
      "_________________________________________________________________\n"
     ]
    }
   ],
   "source": [
    "model.summary()"
   ]
  },
  {
   "cell_type": "code",
   "execution_count": 8,
   "metadata": {},
   "outputs": [
    {
     "name": "stdout",
     "output_type": "stream",
     "text": [
      "x_train shape: (60000, 28, 28, 1)\n",
      "60000 train samples\n",
      "10000 test samples\n"
     ]
    }
   ],
   "source": [
    "import tensorflow\n",
    "from __future__ import print_function\n",
    "from tensorflow.keras.datasets import mnist\n",
    "from tensorflow.keras.models import Sequential\n",
    "from tensorflow.keras.layers import Dense, Dropout, Flatten\n",
    "from tensorflow.keras.layers import Conv2D, MaxPooling2D\n",
    "from tensorflow.keras import backend as K\n",
    "\n",
    "batch_size = 128\n",
    "num_classes = 10\n",
    "epochs = 12\n",
    "\n",
    "# input image dimensions\n",
    "img_rows, img_cols = 28, 28\n",
    "\n",
    "# the data, split between train and test sets\n",
    "(x_train, y_train), (x_test, y_test) = mnist.load_data()\n",
    "\n",
    "if K.image_data_format() == 'channels_first':\n",
    "    x_train = x_train.reshape(x_train.shape[0], 1, img_rows, img_cols)\n",
    "    x_test = x_test.reshape(x_test.shape[0], 1, img_rows, img_cols)\n",
    "    input_shape = (1, img_rows, img_cols)\n",
    "else:\n",
    "    x_train = x_train.reshape(x_train.shape[0], img_rows, img_cols, 1)\n",
    "    x_test = x_test.reshape(x_test.shape[0], img_rows, img_cols, 1)\n",
    "    input_shape = (img_rows, img_cols, 1)\n",
    "\n",
    "x_train = x_train.astype('float32')\n",
    "x_test = x_test.astype('float32')\n",
    "x_train /= 255\n",
    "x_test /= 255\n",
    "print('x_train shape:', x_train.shape)\n",
    "print(x_train.shape[0], 'train samples')\n",
    "print(x_test.shape[0], 'test samples')\n",
    "\n",
    "# convert class vectors to binary class matrices\n",
    "y_train = tensorflow.keras.utils.to_categorical(y_train, num_classes)\n",
    "y_test = tensorflow.keras.utils.to_categorical(y_test, num_classes)"
   ]
  },
  {
   "cell_type": "code",
   "execution_count": 9,
   "metadata": {},
   "outputs": [
    {
     "name": "stdout",
     "output_type": "stream",
     "text": [
      "10000/10000 [==============================] - 2s 248us/sample - loss: 0.0313 - acc: 0.9906\n"
     ]
    },
    {
     "data": {
      "text/plain": [
       "[0.031253051878622866, 0.9906]"
      ]
     },
     "execution_count": 9,
     "metadata": {},
     "output_type": "execute_result"
    }
   ],
   "source": [
    "score=model.evaluate(x_test,y_test)\n",
    "score"
   ]
  },
  {
   "cell_type": "code",
   "execution_count": 15,
   "metadata": {},
   "outputs": [
    {
     "data": {
      "text/plain": [
       "array([0.], dtype=float32)"
      ]
     },
     "execution_count": 15,
     "metadata": {},
     "output_type": "execute_result"
    }
   ],
   "source": []
  },
  {
   "cell_type": "code",
   "execution_count": 1,
   "metadata": {},
   "outputs": [],
   "source": [
    "import pandas as pd\n",
    "import os\n",
    "import re"
   ]
  },
  {
   "cell_type": "code",
   "execution_count": 2,
   "metadata": {},
   "outputs": [],
   "source": [
    "os.chdir('/home/abraham/Escritorio/PAE2/PAE/pae2019/CLOCK')"
   ]
  },
  {
   "cell_type": "code",
   "execution_count": 5,
   "metadata": {},
   "outputs": [
    {
     "data": {
      "text/html": [
       "<div>\n",
       "<style scoped>\n",
       "    .dataframe tbody tr th:only-of-type {\n",
       "        vertical-align: middle;\n",
       "    }\n",
       "\n",
       "    .dataframe tbody tr th {\n",
       "        vertical-align: top;\n",
       "    }\n",
       "\n",
       "    .dataframe thead th {\n",
       "        text-align: right;\n",
       "    }\n",
       "</style>\n",
       "<table border=\"1\" class=\"dataframe\">\n",
       "  <thead>\n",
       "    <tr style=\"text-align: right;\">\n",
       "      <th></th>\n",
       "      <th>IDPACIENTE</th>\n",
       "      <th>IDIPAD</th>\n",
       "      <th>FECHA NACIMIENTO</th>\n",
       "      <th>SEXO</th>\n",
       "      <th>Diagnóstico</th>\n",
       "      <th>NUM_SALUD</th>\n",
       "    </tr>\n",
       "  </thead>\n",
       "  <tbody>\n",
       "    <tr>\n",
       "      <td>0</td>\n",
       "      <td>1013</td>\n",
       "      <td>1516</td>\n",
       "      <td>1944-01-24</td>\n",
       "      <td>MUJER</td>\n",
       "      <td>Sano</td>\n",
       "      <td>0</td>\n",
       "    </tr>\n",
       "    <tr>\n",
       "      <td>1</td>\n",
       "      <td>1015</td>\n",
       "      <td>1518</td>\n",
       "      <td>1940-10-19</td>\n",
       "      <td>HOMBRE</td>\n",
       "      <td>Sano</td>\n",
       "      <td>0</td>\n",
       "    </tr>\n",
       "    <tr>\n",
       "      <td>2</td>\n",
       "      <td>1016</td>\n",
       "      <td>1519</td>\n",
       "      <td>1947-11-22</td>\n",
       "      <td>MUJER</td>\n",
       "      <td>Sano</td>\n",
       "      <td>0</td>\n",
       "    </tr>\n",
       "    <tr>\n",
       "      <td>3</td>\n",
       "      <td>1017</td>\n",
       "      <td>1520</td>\n",
       "      <td>1934-06-10</td>\n",
       "      <td>HOMBRE</td>\n",
       "      <td>Deterioro</td>\n",
       "      <td>1</td>\n",
       "    </tr>\n",
       "    <tr>\n",
       "      <td>4</td>\n",
       "      <td>1018</td>\n",
       "      <td>1521</td>\n",
       "      <td>1944-09-17</td>\n",
       "      <td>HOMBRE</td>\n",
       "      <td>Demencia</td>\n",
       "      <td>1</td>\n",
       "    </tr>\n",
       "  </tbody>\n",
       "</table>\n",
       "</div>"
      ],
      "text/plain": [
       "   IDPACIENTE IDIPAD FECHA NACIMIENTO    SEXO Diagnóstico  NUM_SALUD\n",
       "0        1013   1516       1944-01-24   MUJER        Sano          0\n",
       "1        1015   1518       1940-10-19  HOMBRE        Sano          0\n",
       "2        1016   1519       1947-11-22   MUJER        Sano          0\n",
       "3        1017   1520       1934-06-10  HOMBRE   Deterioro          1\n",
       "4        1018   1521       1944-09-17  HOMBRE    Demencia          1"
      ]
     },
     "execution_count": 5,
     "metadata": {},
     "output_type": "execute_result"
    }
   ],
   "source": [
    "patientsdata=pd.read_excel('Resumen_Datos_UPC.xls')\n",
    "patientsdata.head()"
   ]
  },
  {
   "cell_type": "code",
   "execution_count": 9,
   "metadata": {},
   "outputs": [],
   "source": [
    "IDIPAD=list(patientsdata['IDIPAD'])\n",
    "NUM_SALUD=list(patientsdata['NUM_SALUD'])"
   ]
  },
  {
   "cell_type": "code",
   "execution_count": 17,
   "metadata": {},
   "outputs": [],
   "source": [
    "class_patients= dict(zip(IDIPAD,NUM_SALUD))"
   ]
  },
  {
   "cell_type": "code",
   "execution_count": 19,
   "metadata": {},
   "outputs": [],
   "source": [
    "dir_CDT='/home/abraham/Escritorio/PAE2/PAE/pae2019/CLOCK/CDT_images'\n",
    "os.chdir(dir_CDT)\n",
    "images=os.listdir()"
   ]
  },
  {
   "cell_type": "code",
   "execution_count": 23,
   "metadata": {},
   "outputs": [
    {
     "data": {
      "text/plain": [
       "'1810.png'"
      ]
     },
     "execution_count": 23,
     "metadata": {},
     "output_type": "execute_result"
    }
   ],
   "source": [
    "images[0]"
   ]
  },
  {
   "cell_type": "code",
   "execution_count": 34,
   "metadata": {},
   "outputs": [
    {
     "data": {
      "text/plain": [
       "0"
      ]
     },
     "execution_count": 34,
     "metadata": {},
     "output_type": "execute_result"
    }
   ],
   "source": [
    "import re\n",
    "pattern=\"(.*?).png\"\n",
    "b=int(re.findall(pattern,images[0])[0])\n",
    "c=class_patients.get(b)\n",
    "c"
   ]
  },
  {
   "cell_type": "code",
   "execution_count": 69,
   "metadata": {},
   "outputs": [],
   "source": [
    "#Set-up\n",
    "from pathlib import Path\n",
    "import shutil\n",
    "import pandas as pd\n",
    "import os\n",
    "import re\n",
    "import random\n",
    "\n",
    "# Patients and CDT_images directories.\n",
    "dir_excel=Path('/home/abraham/Escritorio/PAE2/PAE/pae2019/CLOCK')\n",
    "dir_CDT=Path('/home/abraham/Escritorio/PAE2/PAE/pae2019/CLOCK/CDT_images')\n",
    "\n",
    "#Test and train directories\n",
    "\n",
    "train_directory=dir_CDT / \"train\"\n",
    "train_health_directory=train_directory / \"health\"\n",
    "train_dementia_directory=train_directory /\"dementia\"\n",
    "\n",
    "test_directory=dir_CDT / \"test\"\n",
    "test_health_directory=test_directory / \"health\"\n",
    "test_dementia_directory=test_directory /\"dementia\"\n",
    "\n",
    "#Remove existent directories\n",
    "shutil.rmtree(train_directory,ignore_errors=True)\n",
    "shutil.rmtree(test_directory,ignore_errors=True)\n",
    "\n",
    "os.chdir(dir_CDT)\n",
    "images=os.listdir()\n",
    "\n",
    "#Generate directories with each classes:\n",
    "os.mkdir(train_directory)\n",
    "os.mkdir(train_health_directory)\n",
    "os.mkdir(train_dementia_directory)\n",
    "os.mkdir(test_directory)\n",
    "os.mkdir(test_health_directory)\n",
    "os.mkdir(test_dementia_directory)\n",
    "\n",
    "#Directory that contains the patients information\n",
    "\n",
    "os.chdir(dir_excel)\n",
    "\n",
    "#Read data\n",
    "patientsdata=pd.read_excel('Resumen_Datos_UPC.xls')\n",
    "patientsdata.head()\n",
    "\n",
    "#Join each patient with their class\n",
    "IDIPAD=list(patientsdata['IDIPAD'])\n",
    "NUM_SALUD=list(patientsdata['NUM_SALUD'])\n",
    "class_patients= dict(zip(IDIPAD,NUM_SALUD))\n",
    "\n",
    "#Directory that contains the CDT images\n",
    "\n",
    "\n",
    "random.shuffle(images)\n",
    "length=len(images)\n",
    "percentage_train=0.7\n",
    "train_number=int(length*percentage_train)\n",
    "test_number=length-train_number\n",
    "train_images=images[0:train_number]\n",
    "test_images=images[train_number:train_number+test_number]\n",
    "\n",
    "for image in train_images:\n",
    "    pattern=\"(.*?).png\"\n",
    "    if re.findall(pattern,image):\n",
    "        b=int(re.findall(pattern,image)[0])\n",
    "        c=class_patients.get(b)\n",
    "    if c!=None:\n",
    "        if c==0:\n",
    "            shutil.copyfile(dir_CDT / image,train_health_directory/image)\n",
    "        elif c==1:\n",
    "            shutil.copyfile(dir_CDT / image,train_dementia_directory/image)\n",
    "\n",
    "for image in test_images:\n",
    "    pattern=\"(.*?).png\"\n",
    "    if re.findall(pattern,image):\n",
    "        b=int(re.findall(pattern,image)[0])\n",
    "        c=class_patients.get(b)\n",
    "    if c!=None:\n",
    "        if c==0:\n",
    "            shutil.copyfile(dir_CDT / image,test_health_directory/image)\n",
    "        elif c==1:\n",
    "            shutil.copyfile(dir_CDT / image,test_dementia_directory/image)\n"
   ]
  },
  {
   "cell_type": "code",
   "execution_count": 80,
   "metadata": {},
   "outputs": [
    {
     "data": {
      "text/html": [
       "<div>\n",
       "<style scoped>\n",
       "    .dataframe tbody tr th:only-of-type {\n",
       "        vertical-align: middle;\n",
       "    }\n",
       "\n",
       "    .dataframe tbody tr th {\n",
       "        vertical-align: top;\n",
       "    }\n",
       "\n",
       "    .dataframe thead th {\n",
       "        text-align: right;\n",
       "    }\n",
       "</style>\n",
       "<table border=\"1\" class=\"dataframe\">\n",
       "  <thead>\n",
       "    <tr style=\"text-align: right;\">\n",
       "      <th></th>\n",
       "      <th>IDPACIENTE</th>\n",
       "      <th>IDIPAD</th>\n",
       "      <th>FECHA NACIMIENTO</th>\n",
       "      <th>SEXO</th>\n",
       "      <th>Diagnóstico</th>\n",
       "      <th>NUM_SALUD</th>\n",
       "    </tr>\n",
       "  </thead>\n",
       "  <tbody>\n",
       "  </tbody>\n",
       "</table>\n",
       "</div>"
      ],
      "text/plain": [
       "Empty DataFrame\n",
       "Columns: [IDPACIENTE, IDIPAD, FECHA NACIMIENTO, SEXO, Diagnóstico, NUM_SALUD]\n",
       "Index: []"
      ]
     },
     "execution_count": 80,
     "metadata": {},
     "output_type": "execute_result"
    }
   ],
   "source": [
    "patientsdata.loc[patientsdata['IDPACIENTE'] == 1565]"
   ]
  },
  {
   "cell_type": "code",
   "execution_count": 84,
   "metadata": {},
   "outputs": [
    {
     "data": {
      "text/plain": [
       "['1506.png',\n",
       " '1507.png',\n",
       " '1508.png',\n",
       " '1509.png',\n",
       " '1510.png',\n",
       " '1511.png',\n",
       " '1512.png',\n",
       " '1514.png',\n",
       " '1515.png',\n",
       " '1516.png',\n",
       " '1518.png',\n",
       " '1519.png',\n",
       " '1520.png',\n",
       " '1521.png',\n",
       " '1522.png',\n",
       " '1523.png',\n",
       " '1524.png',\n",
       " '1525.png',\n",
       " '1526.png',\n",
       " '1527.png',\n",
       " '1528.png',\n",
       " '1529.png',\n",
       " '1531.png',\n",
       " '1532.png',\n",
       " '1533.png',\n",
       " '1535.png',\n",
       " '1536.png',\n",
       " '1537.png',\n",
       " '1538.png',\n",
       " '1541.png',\n",
       " '1542.png',\n",
       " '1544.png',\n",
       " '1546.png',\n",
       " '1548.png',\n",
       " '1550.png',\n",
       " '1551.png',\n",
       " '1552.png',\n",
       " '1553.png',\n",
       " '1554.png',\n",
       " '1555.png',\n",
       " '1557.png',\n",
       " '1558.png',\n",
       " '1559.png',\n",
       " '1560.png',\n",
       " '1562.png',\n",
       " '1563.png',\n",
       " '1564.png',\n",
       " '1566.png',\n",
       " '1567.png',\n",
       " '1568.png',\n",
       " '1569.png',\n",
       " '1572.png',\n",
       " '1573.png',\n",
       " '1574.png',\n",
       " '1576.png',\n",
       " '1578.png',\n",
       " '1579.png',\n",
       " '1581.png',\n",
       " '1583.png',\n",
       " '1584.png',\n",
       " '1797.png',\n",
       " '1799.png',\n",
       " '1800.png',\n",
       " '1802.png',\n",
       " '1803.png',\n",
       " '1804.png',\n",
       " '1805.png',\n",
       " '1806.png',\n",
       " '1807.png',\n",
       " '1808.png',\n",
       " '1809.png',\n",
       " '1811.png',\n",
       " '1812.png',\n",
       " '1813.png',\n",
       " '1814.png',\n",
       " '1820.png',\n",
       " '1822.png',\n",
       " '1823.png',\n",
       " '1825.png',\n",
       " '1826.png',\n",
       " '1827.png',\n",
       " '1828.png',\n",
       " '1829.png',\n",
       " '1831.png',\n",
       " '1834.png',\n",
       " '1835.png',\n",
       " '1836.png',\n",
       " '1840.png',\n",
       " '1841.png',\n",
       " '1843.png',\n",
       " '1844.png',\n",
       " '1846.png',\n",
       " '1847.png',\n",
       " '1849.png',\n",
       " '1850.png',\n",
       " '1852.png',\n",
       " '1855.png',\n",
       " '1858.png',\n",
       " '1860.png',\n",
       " '1861.png',\n",
       " '1864.png',\n",
       " '1866.png',\n",
       " '1867.png',\n",
       " '1868.png',\n",
       " '1869.png',\n",
       " '1871.png',\n",
       " '1872.png',\n",
       " '1873.png',\n",
       " '1874.png',\n",
       " '1876.png',\n",
       " '1877.png',\n",
       " '1878.png',\n",
       " '1889.png',\n",
       " '1890.png',\n",
       " '1892.png',\n",
       " '1894.png',\n",
       " '1895.png']"
      ]
     },
     "execution_count": 84,
     "metadata": {},
     "output_type": "execute_result"
    }
   ],
   "source": [
    "train_images.sort()\n",
    "train_images"
   ]
  },
  {
   "cell_type": "code",
   "execution_count": 85,
   "metadata": {},
   "outputs": [
    {
     "data": {
      "text/plain": [
       "['1504.png',\n",
       " '1513.png',\n",
       " '1530.png',\n",
       " '1534.png',\n",
       " '1540.png',\n",
       " '1543.png',\n",
       " '1545.png',\n",
       " '1547.png',\n",
       " '1549.png',\n",
       " '1556.png',\n",
       " '1561.png',\n",
       " '1565.png',\n",
       " '1570.png',\n",
       " '1571.png',\n",
       " '1575.png',\n",
       " '1577.png',\n",
       " '1580.png',\n",
       " '1582.png',\n",
       " '1796.png',\n",
       " '1798.png',\n",
       " '1801.png',\n",
       " '1810.png',\n",
       " '1815.png',\n",
       " '1817.png',\n",
       " '1818.png',\n",
       " '1819.png',\n",
       " '1821.png',\n",
       " '1824.png',\n",
       " '1830.png',\n",
       " '1832.png',\n",
       " '1833.png',\n",
       " '1837.png',\n",
       " '1838.png',\n",
       " '1839.png',\n",
       " '1842.png',\n",
       " '1845.png',\n",
       " '1851.png',\n",
       " '1853.png',\n",
       " '1854.png',\n",
       " '1856.png',\n",
       " '1857.png',\n",
       " '1859.png',\n",
       " '1862.png',\n",
       " '1863.png',\n",
       " '1865.png',\n",
       " '1870.png',\n",
       " '1875.png',\n",
       " '1891.png',\n",
       " '1893.png',\n",
       " '1896.png',\n",
       " '1940.png']"
      ]
     },
     "execution_count": 85,
     "metadata": {},
     "output_type": "execute_result"
    }
   ],
   "source": [
    "test_images.sort()\n",
    "test_images"
   ]
  },
  {
   "cell_type": "code",
   "execution_count": null,
   "metadata": {},
   "outputs": [],
   "source": []
  }
 ],
 "metadata": {
  "kernelspec": {
   "display_name": "Python 3",
   "language": "python",
   "name": "python3"
  },
  "language_info": {
   "codemirror_mode": {
    "name": "ipython",
    "version": 3
   },
   "file_extension": ".py",
   "mimetype": "text/x-python",
   "name": "python",
   "nbconvert_exporter": "python",
   "pygments_lexer": "ipython3",
   "version": "3.6.8"
  }
 },
 "nbformat": 4,
 "nbformat_minor": 2
}
